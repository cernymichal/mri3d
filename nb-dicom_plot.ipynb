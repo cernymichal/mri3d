{
 "cells": [
  {
   "cell_type": "code",
   "execution_count": null,
   "metadata": {},
   "outputs": [],
   "source": [
    "%pip install numpy pydicom python-gdcm matplotlib pyvista ipyvtklink"
   ]
  },
  {
   "cell_type": "code",
   "execution_count": null,
   "metadata": {},
   "outputs": [],
   "source": [
    "import os\n",
    "from pathlib import Path\n",
    "import numpy as np\n",
    "import pydicom\n",
    "import matplotlib.pyplot as plt\n",
    "import pyvista as pv"
   ]
  },
  {
   "cell_type": "code",
   "execution_count": null,
   "metadata": {},
   "outputs": [],
   "source": [
    "base_dir = \"./samples/brain-2022/DICOMDIR\"\n",
    "ds = pydicom.dcmread(base_dir)\n",
    "root_dir = Path(ds.filename).resolve().parent\n",
    "\n",
    "ds\n"
   ]
  },
  {
   "cell_type": "code",
   "execution_count": null,
   "metadata": {},
   "outputs": [],
   "source": [
    "patient = ds.patient_records[0]\n",
    "study = [child for child in patient.children if child.DirectoryRecordType == \"STUDY\"][0]\n",
    "series = [child for child in study.children if child.DirectoryRecordType == \"SERIES\"][2]\n",
    "\n",
    "images = [child for child in series.children if child.DirectoryRecordType == \"IMAGE\"]\n",
    "# Get the absolute file path to each instance\n",
    "#   Each IMAGE contains a relative file path to the root directory\n",
    "elems = [image[\"ReferencedFileID\"] for image in images]\n",
    "# Make sure the relative file path is always a list of str\n",
    "paths = [[elem.value] if elem.VM == 1 else elem.value for elem in elems]\n",
    "paths = [Path(*p) for p in paths]\n",
    "\n",
    "slices = [pydicom.dcmread(Path(root_dir) / p) for p in paths]\n",
    "\n",
    "slices.sort(key=lambda s: float(s.SliceLocation), reverse=True)\n",
    "\n",
    "slices_data = [slice.pixel_array for slice in slices]\n",
    "\n",
    "volume = np.array(slices_data)\n"
   ]
  },
  {
   "cell_type": "code",
   "execution_count": null,
   "metadata": {},
   "outputs": [],
   "source": [
    "plt.imshow(volume[len(volume)//2], cmap=plt.cm.bone)\n",
    "plt.show()\n",
    "\n",
    "#for i in range(volume.shape[0]):\n",
    "#    plt.imshow(volume[i], cmap=plt.cm.bone)\n",
    "#    plt.show()\n",
    "\n",
    "[slice.SliceLocation for slice in slices]\n",
    "\n",
    "slices[0]\n"
   ]
  },
  {
   "cell_type": "code",
   "execution_count": null,
   "metadata": {},
   "outputs": [],
   "source": [
    "cut = volume\n",
    "cut[0:10] = 0\n",
    "vol = np.rot90(np.rot90(cut, k=2, axes=(0, 1)), k=1, axes=(0, 2))\n",
    "#vol = np.interp(vol, (vol.min(), vol.max()), (0, 255))\n",
    "\n",
    "grid = pv.UniformGrid()\n",
    "\n",
    "grid.dimensions = vol.shape\n",
    "\n",
    "#grid.origin = (0, 0, 0)  # The bottom left corner of the data set\n",
    "grid.spacing = (*slices[0].PixelSpacing, slices[0].SliceThickness)  # These are the cell sizes along each axis\n",
    "\n",
    "grid.point_data[\"values\"] = vol.flatten(order=\"F\")  # Flatten the array!\n",
    "\n",
    "grid.plot(volume=True, opacity=\"sigmoid\", cmap=\"bone\")\n"
   ]
  },
  {
   "cell_type": "code",
   "execution_count": null,
   "metadata": {},
   "outputs": [],
   "source": [
    "raise\n",
    "\n",
    "import skimage\n",
    "from mpl_toolkits.mplot3d.art3d import Poly3DCollection\n",
    "\n",
    "\n",
    "p = np.rot90(np.rot90(volume, k=-1, axes=(1, 2)), k=-1, axes=(0, 1))\n",
    "\n",
    "verts, faces, _, _ = skimage.measure.marching_cubes(\n",
    "    p, 40, step_size=2, method=\"lewiner\")\n",
    "fig = plt.figure(figsize=(10, 10))\n",
    "ax = fig.add_subplot(111, projection='3d')\n",
    "# Fancy indexing: `verts[faces]` to generate a collection of triangles\n",
    "mesh = Poly3DCollection(verts[faces], alpha=0.25)\n",
    "ax.add_collection3d(mesh)\n",
    "ax.set_xlim(0, p.shape[0])\n",
    "ax.set_ylim(0, p.shape[1])\n",
    "ax.set_zlim(0, p.shape[2])\n",
    "plt.show()\n"
   ]
  },
  {
   "cell_type": "code",
   "execution_count": null,
   "metadata": {},
   "outputs": [],
   "source": [
    "raise\n",
    "\n",
    "for patient in ds.patient_records:\n",
    "    print(\n",
    "        f\"PATIENT: PatientID={patient.PatientID}, \"\n",
    "        f\"PatientName={patient.PatientName}\"\n",
    "    )\n",
    "\n",
    "    # Find all the STUDY records for the patient\n",
    "    studies = [\n",
    "        ii for ii in patient.children if ii.DirectoryRecordType == \"STUDY\"\n",
    "    ]\n",
    "    for study in studies:\n",
    "        descr = study.StudyDescription or \"(no value available)\"\n",
    "        print(\n",
    "            f\"{'  ' * 1}STUDY: StudyID={study.StudyID}, \"\n",
    "            f\"StudyDate={study.StudyDate}, StudyDescription={descr}\"\n",
    "        )\n",
    "\n",
    "        # Find all the SERIES records in the study\n",
    "        all_series = [\n",
    "            ii for ii in study.children if ii.DirectoryRecordType == \"SERIES\"\n",
    "        ]\n",
    "        for series in all_series:\n",
    "            # Find all the IMAGE records in the series\n",
    "            images = [\n",
    "                ii for ii in series.children\n",
    "                if ii.DirectoryRecordType == \"IMAGE\"\n",
    "            ]\n",
    "            plural = ('', 's')[len(images) > 1]\n",
    "\n",
    "            descr = getattr(\n",
    "                series, \"SeriesDescription\", \"(no value available)\"\n",
    "            )\n",
    "            print(\n",
    "                f\"{'  ' * 2}SERIES: SeriesNumber={series.SeriesNumber}, \"\n",
    "                f\"Modality={series.Modality}, SeriesDescription={descr} - \"\n",
    "                f\"{len(images)} SOP Instance{plural}\"\n",
    "            )\n",
    "\n",
    "            # Get the absolute file path to each instance\n",
    "            #   Each IMAGE contains a relative file path to the root directory\n",
    "            elems = [ii[\"ReferencedFileID\"] for ii in images]\n",
    "            # Make sure the relative file path is always a list of str\n",
    "            paths = [[ee.value] if ee.VM == 1 else ee.value for ee in elems]\n",
    "            paths = [Path(*p) for p in paths]\n",
    "\n",
    "            # List the instance file paths\n",
    "            for p in paths:\n",
    "\n",
    "                print(f\"{'  ' * 3}IMAGE: Path={os.fspath(p)}\")\n",
    "\n",
    "                instance = pydicom.dcmread(Path(root_dir) / p)\n",
    "\n",
    "                # print()\n",
    "                # print(f\"File path........: {os.fspath(p)}\")\n",
    "                # print(f\"SOP Class........: {instance.SOPClassUID} ({instance.SOPClassUID.name})\")\n",
    "                # print()\n",
    "\n",
    "                pat_name = instance.PatientName\n",
    "                display_name = pat_name.family_name + \", \" + pat_name.given_name\n",
    "                # print(f\"Patient's Name...: {display_name}\")\n",
    "                # print(f\"Patient ID.......: {instance.PatientID}\")\n",
    "                # print(f\"Modality.........: {instance.Modality}\")\n",
    "                # print(f\"Study Date.......: {instance.StudyDate}\")\n",
    "                # print(f\"Image size.......: {instance.Rows} x {instance.Columns}\")\n",
    "                # print(f\"Pixel Spacing....: {instance.PixelSpacing}\")\n",
    "\n",
    "                # use .get() if not sure the item exists, and want a default value if missing\n",
    "                # print(f\"Slice location...: {instance.get('SliceLocation', '(missing)')}\")\n",
    "\n",
    "                continue\n",
    "\n",
    "                try:\n",
    "                    plt.imshow(instance.pixel_array, cmap=plt.cm.gray)\n",
    "                    plt.show()\n",
    "                except:\n",
    "                    pass\n"
   ]
  }
 ],
 "metadata": {
  "kernelspec": {
   "display_name": "Python 3 (ipykernel)",
   "language": "python",
   "name": "python3"
  },
  "language_info": {
   "codemirror_mode": {
    "name": "ipython",
    "version": 3
   },
   "file_extension": ".py",
   "mimetype": "text/x-python",
   "name": "python",
   "nbconvert_exporter": "python",
   "pygments_lexer": "ipython3",
   "version": "3.9.13"
  },
  "vscode": {
   "interpreter": {
    "hash": "6795d4e415e1470ea41d7502cf206e199830f985d5f957ed21ddddf361a511af"
   }
  }
 },
 "nbformat": 4,
 "nbformat_minor": 2
}
