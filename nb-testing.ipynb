{
 "cells": [
  {
   "cell_type": "code",
   "execution_count": null,
   "metadata": {},
   "outputs": [],
   "source": [
    "%pip install numpy pydicom python-gdcm numba"
   ]
  },
  {
   "cell_type": "code",
   "execution_count": 1,
   "metadata": {},
   "outputs": [],
   "source": [
    "from mri3d.src.parsedicom import *\n",
    "from mri3d.src.volume import Volume"
   ]
  },
  {
   "cell_type": "code",
   "execution_count": 9,
   "metadata": {
    "scrolled": true
   },
   "outputs": [],
   "source": [
    "dcm = Dataset(Path(\"./samples/test-dataset/DICOMDIR\"))\n",
    "patient = dcm.ds.patient_records[0]\n",
    "study = get_studies(patient)[0]\n",
    "series = get_series(study)[0]\n",
    "images = get_images(series)\n",
    "\n",
    "volume = create_volume(images, dcm)"
   ]
  },
  {
   "cell_type": "code",
   "execution_count": 10,
   "metadata": {},
   "outputs": [
    {
     "data": {
      "text/plain": [
       "(0004, 1400) Offset of the Next Directory Record UL: 0\n",
       "(0004, 1410) Record In-use Flag                  US: 65535\n",
       "(0004, 1420) Offset of Referenced Lower-Level Di UL: 494\n",
       "(0004, 1430) Directory Record Type               CS: 'PATIENT'\n",
       "(0010, 0010) Patient's Name                      PN: 'NAME^NONE'\n",
       "(0010, 0020) Patient ID                          LO: 'NOID'"
      ]
     },
     "execution_count": 10,
     "metadata": {},
     "output_type": "execute_result"
    }
   ],
   "source": [
    "patient"
   ]
  },
  {
   "cell_type": "code",
   "execution_count": 11,
   "metadata": {},
   "outputs": [
    {
     "data": {
      "text/plain": [
       "(0004, 1400) Offset of the Next Directory Record UL: 0\n",
       "(0004, 1410) Record In-use Flag                  US: 65535\n",
       "(0004, 1420) Offset of Referenced Lower-Level Di UL: 710\n",
       "(0004, 1430) Directory Record Type               CS: 'STUDY'\n",
       "(0008, 0020) Study Date                          DA: '20220915'\n",
       "(0008, 0030) Study Time                          TM: '163708.800000'\n",
       "(0008, 0050) Accession Number                    SH: ''\n",
       "(0008, 1030) Study Description                   LO: 'hlava mozek'\n",
       "(0020, 000d) Study Instance UID                  UI: 1.3.6.1.4.1.5962.99.1.1371702657.1541280402.1672114013569.3.0\n",
       "(0020, 0010) Study ID                            SH: 'DCMTKSTUDY000000'"
      ]
     },
     "execution_count": 11,
     "metadata": {},
     "output_type": "execute_result"
    }
   ],
   "source": [
    "study"
   ]
  },
  {
   "cell_type": "code",
   "execution_count": 12,
   "metadata": {},
   "outputs": [
    {
     "data": {
      "text/plain": [
       "(0004, 1400) Offset of the Next Directory Record UL: 0\n",
       "(0004, 1410) Record In-use Flag                  US: 65535\n",
       "(0004, 1420) Offset of Referenced Lower-Level Di UL: 914\n",
       "(0004, 1430) Directory Record Type               CS: 'SERIES'\n",
       "(0008, 0060) Modality                            CS: 'MR'\n",
       "(0008, 0080) Institution Name                    LO: 'AFFIDEA'\n",
       "(0008, 0081) Institution Address                 ST: 'Sustova 1930,Praha 11,,CZ,14800'\n",
       "(0020, 000e) Series Instance UID                 UI: 1.3.6.1.4.1.5962.99.1.1371702657.1541280402.1672114013569.15.0\n",
       "(0020, 0011) Series Number                       IS: '1002'"
      ]
     },
     "execution_count": 12,
     "metadata": {},
     "output_type": "execute_result"
    }
   ],
   "source": [
    "series"
   ]
  },
  {
   "cell_type": "code",
   "execution_count": 13,
   "metadata": {
    "scrolled": true
   },
   "outputs": [
    {
     "data": {
      "text/plain": [
       "[(0004, 1400) Offset of the Next Directory Record UL: 1364\n",
       " (0004, 1410) Record In-use Flag                  US: 65535\n",
       " (0004, 1420) Offset of Referenced Lower-Level Di UL: 0\n",
       " (0004, 1430) Directory Record Type               CS: 'IMAGE'\n",
       " (0004, 1500) Referenced File ID                  CS: ['DICOM', 'I6']\n",
       " (0004, 1510) Referenced SOP Class UID in File    UI: MR Image Storage\n",
       " (0004, 1511) Referenced SOP Instance UID in File UI: 1.3.6.1.4.1.5962.99.1.1371702657.1541280402.1672114013569.14.0\n",
       " (0004, 1512) Referenced Transfer Syntax UID in F UI: JPEG Lossless, Non-Hierarchical, First-Order Prediction (Process 14 [Selection Value 1])\n",
       " (0008, 0008) Image Type                          CS: ['ORIGINAL', 'PRIMARY', 'M', 'NORM', 'DIS2D', 'MFSPLIT']\n",
       " (0008, 002a) Acquisition DateTime                DT: '20220915163732.162500'\n",
       " (0020, 0013) Instance Number                     IS: '1'\n",
       " (0020, 0032) Image Position (Patient)            DS: [-175, -175, -9.6]\n",
       " (0020, 0037) Image Orientation (Patient)         DS: [1, 0, 0, 0, 1, 0]\n",
       " (0020, 0052) Frame of Reference UID              UI: 1.3.6.1.4.1.5962.99.1.1371702657.1541280402.1672114013569.7.0\n",
       " (0028, 0010) Rows                                US: 512\n",
       " (0028, 0011) Columns                             US: 512\n",
       " (0028, 0030) Pixel Spacing                       DS: [0.683594, 0.683594],\n",
       " (0004, 1400) Offset of the Next Directory Record UL: 1812\n",
       " (0004, 1410) Record In-use Flag                  US: 65535\n",
       " (0004, 1420) Offset of Referenced Lower-Level Di UL: 0\n",
       " (0004, 1430) Directory Record Type               CS: 'IMAGE'\n",
       " (0004, 1500) Referenced File ID                  CS: ['DICOM', 'I7']\n",
       " (0004, 1510) Referenced SOP Class UID in File    UI: MR Image Storage\n",
       " (0004, 1511) Referenced SOP Instance UID in File UI: 1.3.6.1.4.1.5962.99.1.1371702657.1541280402.1672114013569.16.0\n",
       " (0004, 1512) Referenced Transfer Syntax UID in F UI: JPEG Lossless, Non-Hierarchical, First-Order Prediction (Process 14 [Selection Value 1])\n",
       " (0008, 0008) Image Type                          CS: ['ORIGINAL', 'PRIMARY', 'M', 'NORM', 'DIS2D', 'MFSPLIT']\n",
       " (0008, 002a) Acquisition DateTime                DT: '20220915163742.722500'\n",
       " (0020, 0013) Instance Number                     IS: '2'\n",
       " (0020, 0032) Image Position (Patient)            DS: [-175, -175, 0]\n",
       " (0020, 0037) Image Orientation (Patient)         DS: [1, 0, 0, 0, 1, 0]\n",
       " (0020, 0052) Frame of Reference UID              UI: 1.3.6.1.4.1.5962.99.1.1371702657.1541280402.1672114013569.7.0\n",
       " (0028, 0010) Rows                                US: 512\n",
       " (0028, 0011) Columns                             US: 512\n",
       " (0028, 0030) Pixel Spacing                       DS: [0.683594, 0.683594],\n",
       " (0004, 1400) Offset of the Next Directory Record UL: 0\n",
       " (0004, 1410) Record In-use Flag                  US: 65535\n",
       " (0004, 1420) Offset of Referenced Lower-Level Di UL: 0\n",
       " (0004, 1430) Directory Record Type               CS: 'IMAGE'\n",
       " (0004, 1500) Referenced File ID                  CS: ['DICOM', 'I8']\n",
       " (0004, 1510) Referenced SOP Class UID in File    UI: MR Image Storage\n",
       " (0004, 1511) Referenced SOP Instance UID in File UI: 1.3.6.1.4.1.5962.99.1.1371702657.1541280402.1672114013569.17.0\n",
       " (0004, 1512) Referenced Transfer Syntax UID in F UI: JPEG Lossless, Non-Hierarchical, First-Order Prediction (Process 14 [Selection Value 1])\n",
       " (0008, 0008) Image Type                          CS: ['ORIGINAL', 'PRIMARY', 'M', 'NORM', 'DIS2D', 'MFSPLIT']\n",
       " (0008, 002a) Acquisition DateTime                DT: '20220915163734.275000'\n",
       " (0020, 0013) Instance Number                     IS: '3'\n",
       " (0020, 0032) Image Position (Patient)            DS: [-175, -175, 9.6]\n",
       " (0020, 0037) Image Orientation (Patient)         DS: [1, 0, 0, 0, 1, 0]\n",
       " (0020, 0052) Frame of Reference UID              UI: 1.3.6.1.4.1.5962.99.1.1371702657.1541280402.1672114013569.7.0\n",
       " (0028, 0010) Rows                                US: 512\n",
       " (0028, 0011) Columns                             US: 512\n",
       " (0028, 0030) Pixel Spacing                       DS: [0.683594, 0.683594]]"
      ]
     },
     "execution_count": 13,
     "metadata": {},
     "output_type": "execute_result"
    }
   ],
   "source": [
    "images"
   ]
  },
  {
   "cell_type": "code",
   "execution_count": 14,
   "metadata": {},
   "outputs": [
    {
     "data": {
      "text/plain": [
       "[WindowsPath('DICOM/I6'), WindowsPath('DICOM/I7'), WindowsPath('DICOM/I8')]"
      ]
     },
     "execution_count": 14,
     "metadata": {},
     "output_type": "execute_result"
    }
   ],
   "source": [
    "paths = [image[\"ReferencedFileID\"] for image in images]\n",
    "# relative path to list of str\n",
    "paths = [[path.value] if path.VM == 1 else path.value for path in paths]\n",
    "# finally to Paths\n",
    "paths = [Path(*p) for p in paths]\n",
    "paths"
   ]
  }
 ],
 "metadata": {
  "kernelspec": {
   "display_name": "Python 3 (ipykernel)",
   "language": "python",
   "name": "python3"
  },
  "language_info": {
   "codemirror_mode": {
    "name": "ipython",
    "version": 3
   },
   "file_extension": ".py",
   "mimetype": "text/x-python",
   "name": "python",
   "nbconvert_exporter": "python",
   "pygments_lexer": "ipython3",
   "version": "3.9.13"
  },
  "vscode": {
   "interpreter": {
    "hash": "6795d4e415e1470ea41d7502cf206e199830f985d5f957ed21ddddf361a511af"
   }
  }
 },
 "nbformat": 4,
 "nbformat_minor": 2
}
