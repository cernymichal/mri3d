{
 "cells": [
  {
   "cell_type": "code",
   "execution_count": null,
   "metadata": {},
   "outputs": [],
   "source": [
    "%pip install numpy pydicom python-gdcm matplotlib pyvista ipyvtklink numba"
   ]
  },
  {
   "cell_type": "code",
   "execution_count": null,
   "metadata": {},
   "outputs": [],
   "source": [
    "import matplotlib.pyplot as plt\n",
    "import pyvista as pv\n",
    "\n",
    "from mri3d.src.parsedicom import *\n",
    "from mri3d.src.volume import Volume"
   ]
  },
  {
   "cell_type": "code",
   "execution_count": null,
   "metadata": {},
   "outputs": [],
   "source": [
    "def plot(volume: Volume) -> None:\n",
    "    grid = pv.UniformGrid()\n",
    "\n",
    "    grid.dimensions = volume.data.shape\n",
    "    #grid.origin = (0, 0, 0)\n",
    "    grid.spacing = volume.spacing\n",
    "\n",
    "    grid.point_data[\"values\"] = volume.data.flatten(order=\"F\")\n",
    "\n",
    "    grid.plot(volume=True, opacity=\"sigmoid\", cmap=\"bone\")"
   ]
  },
  {
   "cell_type": "code",
   "execution_count": null,
   "metadata": {
    "scrolled": true
   },
   "outputs": [],
   "source": [
    "dcm = Dataset(Path(\"./samples/brain-2022/DICOMDIR\"))\n",
    "patient = dcm.ds.patient_records[0]\n",
    "study = get_studies(patient)[0]\n",
    "series = get_series(study)[2]\n",
    "images = get_images(series)\n",
    "\n",
    "volume = create_volume(images, dcm)\n",
    "\n",
    "volume = Volume.rotate90(Volume.rotate90(volume,1),2, 2)\n",
    "test_vol = Volume.halfsample(volume)\n",
    "\n",
    "plot(volume)"
   ]
  },
  {
   "cell_type": "code",
   "execution_count": null,
   "metadata": {},
   "outputs": [],
   "source": [
    "volume2 = Volume.normalize_spacing(volume)"
   ]
  },
  {
   "cell_type": "code",
   "execution_count": null,
   "metadata": {},
   "outputs": [],
   "source": [
    "plot(volume2)"
   ]
  },
  {
   "cell_type": "code",
   "execution_count": null,
   "metadata": {
    "scrolled": false
   },
   "outputs": [],
   "source": [
    "volume.rotate90(1)\n",
    "volume.rotate90(2, 2)\n",
    "plot(volume)"
   ]
  },
  {
   "cell_type": "code",
   "execution_count": null,
   "metadata": {
    "scrolled": true
   },
   "outputs": [],
   "source": [
    "volume.data[:,:,-10:-1] = 0\n",
    "plot(volume)"
   ]
  },
  {
   "cell_type": "code",
   "execution_count": null,
   "metadata": {},
   "outputs": [],
   "source": [
    "patient"
   ]
  },
  {
   "cell_type": "code",
   "execution_count": null,
   "metadata": {},
   "outputs": [],
   "source": [
    "study"
   ]
  },
  {
   "cell_type": "code",
   "execution_count": null,
   "metadata": {},
   "outputs": [],
   "source": [
    "series"
   ]
  }
 ],
 "metadata": {
  "kernelspec": {
   "display_name": "Python 3 (ipykernel)",
   "language": "python",
   "name": "python3"
  },
  "language_info": {
   "codemirror_mode": {
    "name": "ipython",
    "version": 3
   },
   "file_extension": ".py",
   "mimetype": "text/x-python",
   "name": "python",
   "nbconvert_exporter": "python",
   "pygments_lexer": "ipython3",
   "version": "3.9.13"
  },
  "vscode": {
   "interpreter": {
    "hash": "6795d4e415e1470ea41d7502cf206e199830f985d5f957ed21ddddf361a511af"
   }
  }
 },
 "nbformat": 4,
 "nbformat_minor": 2
}
