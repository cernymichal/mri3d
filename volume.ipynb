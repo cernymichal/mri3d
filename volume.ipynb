{
 "cells": [
  {
   "cell_type": "code",
   "execution_count": null,
   "metadata": {},
   "outputs": [],
   "source": [
    "%pip install numpy pydicom python-gdcm matplotlib pyvista ipyvtklink numba"
   ]
  },
  {
   "cell_type": "code",
   "execution_count": 1,
   "metadata": {},
   "outputs": [],
   "source": [
    "import matplotlib.pyplot as plt\n",
    "import pyvista as pv\n",
    "\n",
    "from mri3d.src.parsedicom import *\n",
    "from mri3d.src.volume import Volume"
   ]
  },
  {
   "cell_type": "code",
   "execution_count": 2,
   "metadata": {},
   "outputs": [],
   "source": [
    "def plot(volume: Volume) -> None:\n",
    "    grid = pv.UniformGrid()\n",
    "\n",
    "    grid.dimensions = volume.data.shape\n",
    "    #grid.origin = (0, 0, 0)\n",
    "    grid.spacing = volume.spacing\n",
    "\n",
    "    grid.point_data[\"values\"] = volume.data.flatten(order=\"F\")\n",
    "    \n",
    "    p = pv.Plotter()\n",
    "    p.add_volume(grid, opacity=\"sigmoid\", cmap=\"bone\", show_scalar_bar=False)\n",
    "    p.show()\n",
    "    #p.screenshot(filename=\"img.png\", transparent_background=True, window_size=(1000,1000))"
   ]
  },
  {
   "cell_type": "code",
   "execution_count": 3,
   "metadata": {
    "scrolled": true
   },
   "outputs": [],
   "source": [
    "dcm = Dataset(Path(\"./samples/brain-2022/DICOMDIR\"))\n",
    "patient = dcm.ds.patient_records[0]\n",
    "study = get_studies(patient)[0]\n",
    "series = get_series(study)[2]\n",
    "images = get_images(series)\n",
    "\n",
    "volume = create_volume(images, dcm)\n",
    "\n",
    "volume = Volume.rotate90(Volume.rotate90(volume,1),2, 2)\n",
    "test_vol = Volume.halfsample(volume)\n",
    "\n",
    "plot(test_vol)"
   ]
  },
  {
   "cell_type": "code",
   "execution_count": 4,
   "metadata": {},
   "outputs": [],
   "source": [
    "volume2 = Volume.normalize_spacing(test_vol)"
   ]
  },
  {
   "cell_type": "code",
   "execution_count": null,
   "metadata": {},
   "outputs": [],
   "source": [
    "plot(volume2)"
   ]
  },
  {
   "cell_type": "code",
   "execution_count": 5,
   "metadata": {},
   "outputs": [
    {
     "data": {
      "text/plain": [
       "('0.552885', '0.552885', '4.0')"
      ]
     },
     "execution_count": 5,
     "metadata": {},
     "output_type": "execute_result"
    }
   ],
   "source": [
    "test_vol.spacing"
   ]
  },
  {
   "cell_type": "code",
   "execution_count": 6,
   "metadata": {},
   "outputs": [
    {
     "data": {
      "text/plain": [
       "('0.552885', '0.552885', '0.552885')"
      ]
     },
     "execution_count": 6,
     "metadata": {},
     "output_type": "execute_result"
    }
   ],
   "source": [
    "volume2.spacing"
   ]
  },
  {
   "cell_type": "code",
   "execution_count": null,
   "metadata": {
    "scrolled": false
   },
   "outputs": [],
   "source": [
    "volume.rotate90(1)\n",
    "volume.rotate90(2, 2)\n",
    "plot(volume)"
   ]
  },
  {
   "cell_type": "code",
   "execution_count": null,
   "metadata": {
    "scrolled": true
   },
   "outputs": [],
   "source": [
    "volume.data[:,:,-volume.data.shape[2]//2:-1] = 0\n",
    "plot(volume)"
   ]
  },
  {
   "cell_type": "code",
   "execution_count": null,
   "metadata": {},
   "outputs": [],
   "source": [
    "patient"
   ]
  },
  {
   "cell_type": "code",
   "execution_count": null,
   "metadata": {},
   "outputs": [],
   "source": [
    "study"
   ]
  },
  {
   "cell_type": "code",
   "execution_count": null,
   "metadata": {},
   "outputs": [],
   "source": [
    "series"
   ]
  }
 ],
 "metadata": {
  "kernelspec": {
   "display_name": "Python 3 (ipykernel)",
   "language": "python",
   "name": "python3"
  },
  "language_info": {
   "codemirror_mode": {
    "name": "ipython",
    "version": 3
   },
   "file_extension": ".py",
   "mimetype": "text/x-python",
   "name": "python",
   "nbconvert_exporter": "python",
   "pygments_lexer": "ipython3",
   "version": "3.9.13"
  },
  "vscode": {
   "interpreter": {
    "hash": "6795d4e415e1470ea41d7502cf206e199830f985d5f957ed21ddddf361a511af"
   }
  }
 },
 "nbformat": 4,
 "nbformat_minor": 2
}
