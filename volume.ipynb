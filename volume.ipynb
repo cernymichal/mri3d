{
 "cells": [
  {
   "cell_type": "code",
   "execution_count": 1,
   "metadata": {},
   "outputs": [
    {
     "name": "stdout",
     "output_type": "stream",
     "text": [
      "Requirement already satisfied: numpy in c:\\users\\michal\\appdata\\local\\programs\\python\\python39\\lib\\site-packages (1.24.1)Note: you may need to restart the kernel to use updated packages.\n",
      "\n",
      "Requirement already satisfied: pydicom in c:\\users\\michal\\appdata\\local\\programs\\python\\python39\\lib\\site-packages (2.3.1)\n",
      "Requirement already satisfied: python-gdcm in c:\\users\\michal\\appdata\\local\\programs\\python\\python39\\lib\\site-packages (3.0.20)\n",
      "Requirement already satisfied: matplotlib in c:\\users\\michal\\appdata\\local\\programs\\python\\python39\\lib\\site-packages (3.6.2)\n",
      "Requirement already satisfied: pyvista in c:\\users\\michal\\appdata\\local\\programs\\python\\python39\\lib\\site-packages (0.37.0)\n",
      "Requirement already satisfied: ipyvtklink in c:\\users\\michal\\appdata\\local\\programs\\python\\python39\\lib\\site-packages (0.2.3)\n",
      "Requirement already satisfied: packaging>=20.0 in c:\\users\\michal\\appdata\\local\\programs\\python\\python39\\lib\\site-packages (from matplotlib) (22.0)\n",
      "Requirement already satisfied: cycler>=0.10 in c:\\users\\michal\\appdata\\local\\programs\\python\\python39\\lib\\site-packages (from matplotlib) (0.11.0)\n",
      "Requirement already satisfied: python-dateutil>=2.7 in c:\\users\\michal\\appdata\\local\\programs\\python\\python39\\lib\\site-packages (from matplotlib) (2.8.2)\n",
      "Requirement already satisfied: pyparsing>=2.2.1 in c:\\users\\michal\\appdata\\local\\programs\\python\\python39\\lib\\site-packages (from matplotlib) (3.0.9)\n",
      "Requirement already satisfied: fonttools>=4.22.0 in c:\\users\\michal\\appdata\\local\\programs\\python\\python39\\lib\\site-packages (from matplotlib) (4.38.0)\n",
      "Requirement already satisfied: kiwisolver>=1.0.1 in c:\\users\\michal\\appdata\\local\\programs\\python\\python39\\lib\\site-packages (from matplotlib) (1.4.4)\n",
      "Requirement already satisfied: contourpy>=1.0.1 in c:\\users\\michal\\appdata\\local\\programs\\python\\python39\\lib\\site-packages (from matplotlib) (1.0.6)\n",
      "Requirement already satisfied: pillow>=6.2.0 in c:\\users\\michal\\appdata\\local\\programs\\python\\python39\\lib\\site-packages (from matplotlib) (9.3.0)\n",
      "Requirement already satisfied: imageio in c:\\users\\michal\\appdata\\local\\programs\\python\\python39\\lib\\site-packages (from pyvista) (2.23.0)\n",
      "Requirement already satisfied: vtk in c:\\users\\michal\\appdata\\local\\programs\\python\\python39\\lib\\site-packages (from pyvista) (9.2.2)\n",
      "Requirement already satisfied: pooch in c:\\users\\michal\\appdata\\local\\programs\\python\\python39\\lib\\site-packages (from pyvista) (1.6.0)\n",
      "Requirement already satisfied: scooby>=0.5.1 in c:\\users\\michal\\appdata\\local\\programs\\python\\python39\\lib\\site-packages (from pyvista) (0.7.0)\n",
      "Requirement already satisfied: ipycanvas>=0.5.0 in c:\\users\\michal\\appdata\\local\\programs\\python\\python39\\lib\\site-packages (from ipyvtklink) (0.13.1)\n",
      "Requirement already satisfied: ipyevents>=0.8.0 in c:\\users\\michal\\appdata\\local\\programs\\python\\python39\\lib\\site-packages (from ipyvtklink) (2.0.1)\n",
      "Requirement already satisfied: ipywidgets~=7.7 in c:\\users\\michal\\appdata\\local\\programs\\python\\python39\\lib\\site-packages (from ipyvtklink) (7.7.2)\n",
      "Requirement already satisfied: traitlets>=4.3.1 in c:\\users\\michal\\appdata\\local\\programs\\python\\python39\\lib\\site-packages (from ipywidgets~=7.7->ipyvtklink) (5.8.0)\n",
      "Requirement already satisfied: ipython>=4.0.0 in c:\\users\\michal\\appdata\\local\\programs\\python\\python39\\lib\\site-packages (from ipywidgets~=7.7->ipyvtklink) (8.7.0)\n",
      "Requirement already satisfied: ipython-genutils~=0.2.0 in c:\\users\\michal\\appdata\\local\\programs\\python\\python39\\lib\\site-packages (from ipywidgets~=7.7->ipyvtklink) (0.2.0)\n",
      "Requirement already satisfied: widgetsnbextension~=3.6.0 in c:\\users\\michal\\appdata\\local\\programs\\python\\python39\\lib\\site-packages (from ipywidgets~=7.7->ipyvtklink) (3.6.1)\n",
      "Requirement already satisfied: jupyterlab-widgets<3,>=1.0.0 in c:\\users\\michal\\appdata\\local\\programs\\python\\python39\\lib\\site-packages (from ipywidgets~=7.7->ipyvtklink) (1.1.1)\n",
      "Requirement already satisfied: ipykernel>=4.5.1 in c:\\users\\michal\\appdata\\local\\programs\\python\\python39\\lib\\site-packages (from ipywidgets~=7.7->ipyvtklink) (6.19.4)\n",
      "Requirement already satisfied: six>=1.5 in c:\\users\\michal\\appdata\\local\\programs\\python\\python39\\lib\\site-packages (from python-dateutil>=2.7->matplotlib) (1.16.0)\n",
      "Requirement already satisfied: appdirs>=1.3.0 in c:\\users\\michal\\appdata\\local\\programs\\python\\python39\\lib\\site-packages (from pooch->pyvista) (1.4.4)\n",
      "Requirement already satisfied: requests>=2.19.0 in c:\\users\\michal\\appdata\\local\\programs\\python\\python39\\lib\\site-packages (from pooch->pyvista) (2.28.1)\n",
      "Requirement already satisfied: wslink>=1.0.4 in c:\\users\\michal\\appdata\\local\\programs\\python\\python39\\lib\\site-packages (from vtk->pyvista) (1.10.0)\n",
      "Requirement already satisfied: tornado>=6.1 in c:\\users\\michal\\appdata\\local\\programs\\python\\python39\\lib\\site-packages (from ipykernel>=4.5.1->ipywidgets~=7.7->ipyvtklink) (6.2)\n",
      "Requirement already satisfied: debugpy>=1.0 in c:\\users\\michal\\appdata\\local\\programs\\python\\python39\\lib\\site-packages (from ipykernel>=4.5.1->ipywidgets~=7.7->ipyvtklink) (1.6.4)\n",
      "Requirement already satisfied: pyzmq>=17 in c:\\users\\michal\\appdata\\local\\programs\\python\\python39\\lib\\site-packages (from ipykernel>=4.5.1->ipywidgets~=7.7->ipyvtklink) (24.0.1)\n",
      "Requirement already satisfied: jupyter-client>=6.1.12 in c:\\users\\michal\\appdata\\local\\programs\\python\\python39\\lib\\site-packages (from ipykernel>=4.5.1->ipywidgets~=7.7->ipyvtklink) (7.4.8)\n",
      "Requirement already satisfied: nest-asyncio in c:\\users\\michal\\appdata\\local\\programs\\python\\python39\\lib\\site-packages (from ipykernel>=4.5.1->ipywidgets~=7.7->ipyvtklink) (1.5.6)\n",
      "Requirement already satisfied: comm>=0.1.1 in c:\\users\\michal\\appdata\\local\\programs\\python\\python39\\lib\\site-packages (from ipykernel>=4.5.1->ipywidgets~=7.7->ipyvtklink) (0.1.2)\n",
      "Requirement already satisfied: matplotlib-inline>=0.1 in c:\\users\\michal\\appdata\\local\\programs\\python\\python39\\lib\\site-packages (from ipykernel>=4.5.1->ipywidgets~=7.7->ipyvtklink) (0.1.6)\n",
      "Requirement already satisfied: psutil in c:\\users\\michal\\appdata\\local\\programs\\python\\python39\\lib\\site-packages (from ipykernel>=4.5.1->ipywidgets~=7.7->ipyvtklink) (5.9.4)\n",
      "Requirement already satisfied: pygments>=2.4.0 in c:\\users\\michal\\appdata\\local\\programs\\python\\python39\\lib\\site-packages (from ipython>=4.0.0->ipywidgets~=7.7->ipyvtklink) (2.13.0)\n",
      "Requirement already satisfied: decorator in c:\\users\\michal\\appdata\\local\\programs\\python\\python39\\lib\\site-packages (from ipython>=4.0.0->ipywidgets~=7.7->ipyvtklink) (5.1.1)\n",
      "Requirement already satisfied: pickleshare in c:\\users\\michal\\appdata\\local\\programs\\python\\python39\\lib\\site-packages (from ipython>=4.0.0->ipywidgets~=7.7->ipyvtklink) (0.7.5)\n",
      "Requirement already satisfied: colorama in c:\\users\\michal\\appdata\\local\\programs\\python\\python39\\lib\\site-packages (from ipython>=4.0.0->ipywidgets~=7.7->ipyvtklink) (0.4.6)\n",
      "Requirement already satisfied: stack-data in c:\\users\\michal\\appdata\\local\\programs\\python\\python39\\lib\\site-packages (from ipython>=4.0.0->ipywidgets~=7.7->ipyvtklink) (0.6.2)\n",
      "Requirement already satisfied: prompt-toolkit<3.1.0,>=3.0.11 in c:\\users\\michal\\appdata\\local\\programs\\python\\python39\\lib\\site-packages (from ipython>=4.0.0->ipywidgets~=7.7->ipyvtklink) (3.0.36)\n",
      "Requirement already satisfied: backcall in c:\\users\\michal\\appdata\\local\\programs\\python\\python39\\lib\\site-packages (from ipython>=4.0.0->ipywidgets~=7.7->ipyvtklink) (0.2.0)\n",
      "Requirement already satisfied: jedi>=0.16 in c:\\users\\michal\\appdata\\local\\programs\\python\\python39\\lib\\site-packages (from ipython>=4.0.0->ipywidgets~=7.7->ipyvtklink) (0.18.2)\n",
      "Requirement already satisfied: charset-normalizer<3,>=2 in c:\\users\\michal\\appdata\\local\\programs\\python\\python39\\lib\\site-packages (from requests>=2.19.0->pooch->pyvista) (2.1.1)\n",
      "Requirement already satisfied: idna<4,>=2.5 in c:\\users\\michal\\appdata\\local\\programs\\python\\python39\\lib\\site-packages (from requests>=2.19.0->pooch->pyvista) (3.4)\n",
      "Requirement already satisfied: urllib3<1.27,>=1.21.1 in c:\\users\\michal\\appdata\\local\\programs\\python\\python39\\lib\\site-packages (from requests>=2.19.0->pooch->pyvista) (1.26.13)\n",
      "Requirement already satisfied: certifi>=2017.4.17 in c:\\users\\michal\\appdata\\local\\programs\\python\\python39\\lib\\site-packages (from requests>=2.19.0->pooch->pyvista) (2022.12.7)\n",
      "Requirement already satisfied: notebook>=4.4.1 in c:\\users\\michal\\appdata\\local\\programs\\python\\python39\\lib\\site-packages (from widgetsnbextension~=3.6.0->ipywidgets~=7.7->ipyvtklink) (6.5.2)\n",
      "Requirement already satisfied: aiohttp<4 in c:\\users\\michal\\appdata\\local\\programs\\python\\python39\\lib\\site-packages (from wslink>=1.0.4->vtk->pyvista) (3.8.3)\n",
      "Requirement already satisfied: async-timeout<5.0,>=4.0.0a3 in c:\\users\\michal\\appdata\\local\\programs\\python\\python39\\lib\\site-packages (from aiohttp<4->wslink>=1.0.4->vtk->pyvista) (4.0.2)\n",
      "Requirement already satisfied: multidict<7.0,>=4.5 in c:\\users\\michal\\appdata\\local\\programs\\python\\python39\\lib\\site-packages (from aiohttp<4->wslink>=1.0.4->vtk->pyvista) (6.0.4)\n",
      "Requirement already satisfied: frozenlist>=1.1.1 in c:\\users\\michal\\appdata\\local\\programs\\python\\python39\\lib\\site-packages (from aiohttp<4->wslink>=1.0.4->vtk->pyvista) (1.3.3)\n",
      "Requirement already satisfied: attrs>=17.3.0 in c:\\users\\michal\\appdata\\local\\programs\\python\\python39\\lib\\site-packages (from aiohttp<4->wslink>=1.0.4->vtk->pyvista) (22.2.0)\n",
      "Requirement already satisfied: aiosignal>=1.1.2 in c:\\users\\michal\\appdata\\local\\programs\\python\\python39\\lib\\site-packages (from aiohttp<4->wslink>=1.0.4->vtk->pyvista) (1.3.1)\n",
      "Requirement already satisfied: yarl<2.0,>=1.0 in c:\\users\\michal\\appdata\\local\\programs\\python\\python39\\lib\\site-packages (from aiohttp<4->wslink>=1.0.4->vtk->pyvista) (1.8.2)\n",
      "Requirement already satisfied: parso<0.9.0,>=0.8.0 in c:\\users\\michal\\appdata\\local\\programs\\python\\python39\\lib\\site-packages (from jedi>=0.16->ipython>=4.0.0->ipywidgets~=7.7->ipyvtklink) (0.8.3)\n",
      "Requirement already satisfied: jupyter-core>=4.9.2 in c:\\users\\michal\\appdata\\local\\programs\\python\\python39\\lib\\site-packages (from jupyter-client>=6.1.12->ipykernel>=4.5.1->ipywidgets~=7.7->ipyvtklink) (5.1.1)\n",
      "Requirement already satisfied: entrypoints in c:\\users\\michal\\appdata\\local\\programs\\python\\python39\\lib\\site-packages (from jupyter-client>=6.1.12->ipykernel>=4.5.1->ipywidgets~=7.7->ipyvtklink) (0.4)\n",
      "Requirement already satisfied: nbclassic>=0.4.7 in c:\\users\\michal\\appdata\\local\\programs\\python\\python39\\lib\\site-packages (from notebook>=4.4.1->widgetsnbextension~=3.6.0->ipywidgets~=7.7->ipyvtklink) (0.4.8)\n",
      "Requirement already satisfied: nbconvert>=5 in c:\\users\\michal\\appdata\\local\\programs\\python\\python39\\lib\\site-packages (from notebook>=4.4.1->widgetsnbextension~=3.6.0->ipywidgets~=7.7->ipyvtklink) (7.2.7)\n",
      "Requirement already satisfied: nbformat in c:\\users\\michal\\appdata\\local\\programs\\python\\python39\\lib\\site-packages (from notebook>=4.4.1->widgetsnbextension~=3.6.0->ipywidgets~=7.7->ipyvtklink) (5.7.1)\n",
      "Requirement already satisfied: Send2Trash>=1.8.0 in c:\\users\\michal\\appdata\\local\\programs\\python\\python39\\lib\\site-packages (from notebook>=4.4.1->widgetsnbextension~=3.6.0->ipywidgets~=7.7->ipyvtklink) (1.8.0)\n",
      "Requirement already satisfied: prometheus-client in c:\\users\\michal\\appdata\\local\\programs\\python\\python39\\lib\\site-packages (from notebook>=4.4.1->widgetsnbextension~=3.6.0->ipywidgets~=7.7->ipyvtklink) (0.15.0)\n",
      "Requirement already satisfied: jinja2 in c:\\users\\michal\\appdata\\local\\programs\\python\\python39\\lib\\site-packages (from notebook>=4.4.1->widgetsnbextension~=3.6.0->ipywidgets~=7.7->ipyvtklink) (3.1.2)\n",
      "Requirement already satisfied: argon2-cffi in c:\\users\\michal\\appdata\\local\\programs\\python\\python39\\lib\\site-packages (from notebook>=4.4.1->widgetsnbextension~=3.6.0->ipywidgets~=7.7->ipyvtklink) (21.3.0)\n",
      "Requirement already satisfied: terminado>=0.8.3 in c:\\users\\michal\\appdata\\local\\programs\\python\\python39\\lib\\site-packages (from notebook>=4.4.1->widgetsnbextension~=3.6.0->ipywidgets~=7.7->ipyvtklink) (0.17.1)\n",
      "Requirement already satisfied: wcwidth in c:\\users\\michal\\appdata\\local\\programs\\python\\python39\\lib\\site-packages (from prompt-toolkit<3.1.0,>=3.0.11->ipython>=4.0.0->ipywidgets~=7.7->ipyvtklink) (0.2.5)\n",
      "Requirement already satisfied: executing>=1.2.0 in c:\\users\\michal\\appdata\\local\\programs\\python\\python39\\lib\\site-packages (from stack-data->ipython>=4.0.0->ipywidgets~=7.7->ipyvtklink) (1.2.0)\n",
      "Requirement already satisfied: asttokens>=2.1.0 in c:\\users\\michal\\appdata\\local\\programs\\python\\python39\\lib\\site-packages (from stack-data->ipython>=4.0.0->ipywidgets~=7.7->ipyvtklink) (2.2.1)\n",
      "Requirement already satisfied: pure-eval in c:\\users\\michal\\appdata\\local\\programs\\python\\python39\\lib\\site-packages (from stack-data->ipython>=4.0.0->ipywidgets~=7.7->ipyvtklink) (0.2.2)\n",
      "Requirement already satisfied: pywin32>=1.0 in c:\\users\\michal\\appdata\\local\\programs\\python\\python39\\lib\\site-packages (from jupyter-core>=4.9.2->jupyter-client>=6.1.12->ipykernel>=4.5.1->ipywidgets~=7.7->ipyvtklink) (305)\n",
      "Requirement already satisfied: platformdirs>=2.5 in c:\\users\\michal\\appdata\\local\\programs\\python\\python39\\lib\\site-packages (from jupyter-core>=4.9.2->jupyter-client>=6.1.12->ipykernel>=4.5.1->ipywidgets~=7.7->ipyvtklink) (2.6.0)\n",
      "Requirement already satisfied: notebook-shim>=0.1.0 in c:\\users\\michal\\appdata\\local\\programs\\python\\python39\\lib\\site-packages (from nbclassic>=0.4.7->notebook>=4.4.1->widgetsnbextension~=3.6.0->ipywidgets~=7.7->ipyvtklink) (0.2.2)\n",
      "Requirement already satisfied: jupyter-server>=1.8 in c:\\users\\michal\\appdata\\local\\programs\\python\\python39\\lib\\site-packages (from nbclassic>=0.4.7->notebook>=4.4.1->widgetsnbextension~=3.6.0->ipywidgets~=7.7->ipyvtklink) (2.0.5)\n",
      "Requirement already satisfied: defusedxml in c:\\users\\michal\\appdata\\local\\programs\\python\\python39\\lib\\site-packages (from nbconvert>=5->notebook>=4.4.1->widgetsnbextension~=3.6.0->ipywidgets~=7.7->ipyvtklink) (0.7.1)\n",
      "Requirement already satisfied: pandocfilters>=1.4.1 in c:\\users\\michal\\appdata\\local\\programs\\python\\python39\\lib\\site-packages (from nbconvert>=5->notebook>=4.4.1->widgetsnbextension~=3.6.0->ipywidgets~=7.7->ipyvtklink) (1.5.0)\n",
      "Requirement already satisfied: tinycss2 in c:\\users\\michal\\appdata\\local\\programs\\python\\python39\\lib\\site-packages (from nbconvert>=5->notebook>=4.4.1->widgetsnbextension~=3.6.0->ipywidgets~=7.7->ipyvtklink) (1.2.1)\n",
      "Requirement already satisfied: beautifulsoup4 in c:\\users\\michal\\appdata\\local\\programs\\python\\python39\\lib\\site-packages (from nbconvert>=5->notebook>=4.4.1->widgetsnbextension~=3.6.0->ipywidgets~=7.7->ipyvtklink) (4.11.1)\n",
      "Requirement already satisfied: nbclient>=0.5.0 in c:\\users\\michal\\appdata\\local\\programs\\python\\python39\\lib\\site-packages (from nbconvert>=5->notebook>=4.4.1->widgetsnbextension~=3.6.0->ipywidgets~=7.7->ipyvtklink) (0.7.2)\n",
      "Requirement already satisfied: mistune<3,>=2.0.3 in c:\\users\\michal\\appdata\\local\\programs\\python\\python39\\lib\\site-packages (from nbconvert>=5->notebook>=4.4.1->widgetsnbextension~=3.6.0->ipywidgets~=7.7->ipyvtklink) (2.0.4)\n",
      "Requirement already satisfied: importlib-metadata>=3.6 in c:\\users\\michal\\appdata\\local\\programs\\python\\python39\\lib\\site-packages (from nbconvert>=5->notebook>=4.4.1->widgetsnbextension~=3.6.0->ipywidgets~=7.7->ipyvtklink) (5.2.0)\n",
      "Requirement already satisfied: jupyterlab-pygments in c:\\users\\michal\\appdata\\local\\programs\\python\\python39\\lib\\site-packages (from nbconvert>=5->notebook>=4.4.1->widgetsnbextension~=3.6.0->ipywidgets~=7.7->ipyvtklink) (0.2.2)\n",
      "Requirement already satisfied: bleach in c:\\users\\michal\\appdata\\local\\programs\\python\\python39\\lib\\site-packages (from nbconvert>=5->notebook>=4.4.1->widgetsnbextension~=3.6.0->ipywidgets~=7.7->ipyvtklink) (5.0.1)\n",
      "Requirement already satisfied: markupsafe>=2.0 in c:\\users\\michal\\appdata\\local\\programs\\python\\python39\\lib\\site-packages (from nbconvert>=5->notebook>=4.4.1->widgetsnbextension~=3.6.0->ipywidgets~=7.7->ipyvtklink) (2.1.1)\n",
      "Requirement already satisfied: fastjsonschema in c:\\users\\michal\\appdata\\local\\programs\\python\\python39\\lib\\site-packages (from nbformat->notebook>=4.4.1->widgetsnbextension~=3.6.0->ipywidgets~=7.7->ipyvtklink) (2.16.2)\n",
      "Requirement already satisfied: jsonschema>=2.6 in c:\\users\\michal\\appdata\\local\\programs\\python\\python39\\lib\\site-packages (from nbformat->notebook>=4.4.1->widgetsnbextension~=3.6.0->ipywidgets~=7.7->ipyvtklink) (4.17.3)\n",
      "Requirement already satisfied: pywinpty>=1.1.0 in c:\\users\\michal\\appdata\\local\\programs\\python\\python39\\lib\\site-packages (from terminado>=0.8.3->notebook>=4.4.1->widgetsnbextension~=3.6.0->ipywidgets~=7.7->ipyvtklink) (2.0.9)\n",
      "Requirement already satisfied: argon2-cffi-bindings in c:\\users\\michal\\appdata\\local\\programs\\python\\python39\\lib\\site-packages (from argon2-cffi->notebook>=4.4.1->widgetsnbextension~=3.6.0->ipywidgets~=7.7->ipyvtklink) (21.2.0)\n",
      "Requirement already satisfied: zipp>=0.5 in c:\\users\\michal\\appdata\\local\\programs\\python\\python39\\lib\\site-packages (from importlib-metadata>=3.6->nbconvert>=5->notebook>=4.4.1->widgetsnbextension~=3.6.0->ipywidgets~=7.7->ipyvtklink) (3.11.0)\n",
      "Requirement already satisfied: pyrsistent!=0.17.0,!=0.17.1,!=0.17.2,>=0.14.0 in c:\\users\\michal\\appdata\\local\\programs\\python\\python39\\lib\\site-packages (from jsonschema>=2.6->nbformat->notebook>=4.4.1->widgetsnbextension~=3.6.0->ipywidgets~=7.7->ipyvtklink) (0.19.2)\n",
      "Requirement already satisfied: jupyter-events>=0.4.0 in c:\\users\\michal\\appdata\\local\\programs\\python\\python39\\lib\\site-packages (from jupyter-server>=1.8->nbclassic>=0.4.7->notebook>=4.4.1->widgetsnbextension~=3.6.0->ipywidgets~=7.7->ipyvtklink) (0.5.0)\n",
      "Requirement already satisfied: websocket-client in c:\\users\\michal\\appdata\\local\\programs\\python\\python39\\lib\\site-packages (from jupyter-server>=1.8->nbclassic>=0.4.7->notebook>=4.4.1->widgetsnbextension~=3.6.0->ipywidgets~=7.7->ipyvtklink) (1.4.2)\n",
      "Requirement already satisfied: anyio<4,>=3.1.0 in c:\\users\\michal\\appdata\\local\\programs\\python\\python39\\lib\\site-packages (from jupyter-server>=1.8->nbclassic>=0.4.7->notebook>=4.4.1->widgetsnbextension~=3.6.0->ipywidgets~=7.7->ipyvtklink) (3.6.2)\n",
      "Requirement already satisfied: jupyter-server-terminals in c:\\users\\michal\\appdata\\local\\programs\\python\\python39\\lib\\site-packages (from jupyter-server>=1.8->nbclassic>=0.4.7->notebook>=4.4.1->widgetsnbextension~=3.6.0->ipywidgets~=7.7->ipyvtklink) (0.4.3)\n",
      "Requirement already satisfied: cffi>=1.0.1 in c:\\users\\michal\\appdata\\local\\programs\\python\\python39\\lib\\site-packages (from argon2-cffi-bindings->argon2-cffi->notebook>=4.4.1->widgetsnbextension~=3.6.0->ipywidgets~=7.7->ipyvtklink) (1.15.1)\n",
      "Requirement already satisfied: soupsieve>1.2 in c:\\users\\michal\\appdata\\local\\programs\\python\\python39\\lib\\site-packages (from beautifulsoup4->nbconvert>=5->notebook>=4.4.1->widgetsnbextension~=3.6.0->ipywidgets~=7.7->ipyvtklink) (2.3.2.post1)\n",
      "Requirement already satisfied: webencodings in c:\\users\\michal\\appdata\\local\\programs\\python\\python39\\lib\\site-packages (from bleach->nbconvert>=5->notebook>=4.4.1->widgetsnbextension~=3.6.0->ipywidgets~=7.7->ipyvtklink) (0.5.1)\n",
      "Requirement already satisfied: sniffio>=1.1 in c:\\users\\michal\\appdata\\local\\programs\\python\\python39\\lib\\site-packages (from anyio<4,>=3.1.0->jupyter-server>=1.8->nbclassic>=0.4.7->notebook>=4.4.1->widgetsnbextension~=3.6.0->ipywidgets~=7.7->ipyvtklink) (1.3.0)\n",
      "Requirement already satisfied: pycparser in c:\\users\\michal\\appdata\\local\\programs\\python\\python39\\lib\\site-packages (from cffi>=1.0.1->argon2-cffi-bindings->argon2-cffi->notebook>=4.4.1->widgetsnbextension~=3.6.0->ipywidgets~=7.7->ipyvtklink) (2.21)\n",
      "Requirement already satisfied: pyyaml in c:\\users\\michal\\appdata\\local\\programs\\python\\python39\\lib\\site-packages (from jupyter-events>=0.4.0->jupyter-server>=1.8->nbclassic>=0.4.7->notebook>=4.4.1->widgetsnbextension~=3.6.0->ipywidgets~=7.7->ipyvtklink) (6.0)\n",
      "Requirement already satisfied: python-json-logger in c:\\users\\michal\\appdata\\local\\programs\\python\\python39\\lib\\site-packages (from jupyter-events>=0.4.0->jupyter-server>=1.8->nbclassic>=0.4.7->notebook>=4.4.1->widgetsnbextension~=3.6.0->ipywidgets~=7.7->ipyvtklink) (2.0.4)\n",
      "Requirement already satisfied: isoduration in c:\\users\\michal\\appdata\\local\\programs\\python\\python39\\lib\\site-packages (from jsonschema>=2.6->nbformat->notebook>=4.4.1->widgetsnbextension~=3.6.0->ipywidgets~=7.7->ipyvtklink) (20.11.0)\n",
      "Requirement already satisfied: rfc3339-validator in c:\\users\\michal\\appdata\\local\\programs\\python\\python39\\lib\\site-packages (from jsonschema>=2.6->nbformat->notebook>=4.4.1->widgetsnbextension~=3.6.0->ipywidgets~=7.7->ipyvtklink) (0.1.4)\n",
      "Requirement already satisfied: uri-template in c:\\users\\michal\\appdata\\local\\programs\\python\\python39\\lib\\site-packages (from jsonschema>=2.6->nbformat->notebook>=4.4.1->widgetsnbextension~=3.6.0->ipywidgets~=7.7->ipyvtklink) (1.2.0)\n",
      "Requirement already satisfied: jsonpointer>1.13 in c:\\users\\michal\\appdata\\local\\programs\\python\\python39\\lib\\site-packages (from jsonschema>=2.6->nbformat->notebook>=4.4.1->widgetsnbextension~=3.6.0->ipywidgets~=7.7->ipyvtklink) (2.3)\n",
      "Requirement already satisfied: fqdn in c:\\users\\michal\\appdata\\local\\programs\\python\\python39\\lib\\site-packages (from jsonschema>=2.6->nbformat->notebook>=4.4.1->widgetsnbextension~=3.6.0->ipywidgets~=7.7->ipyvtklink) (1.5.1)\n",
      "Requirement already satisfied: webcolors>=1.11 in c:\\users\\michal\\appdata\\local\\programs\\python\\python39\\lib\\site-packages (from jsonschema>=2.6->nbformat->notebook>=4.4.1->widgetsnbextension~=3.6.0->ipywidgets~=7.7->ipyvtklink) (1.12)\n",
      "Requirement already satisfied: rfc3986-validator>0.1.0 in c:\\users\\michal\\appdata\\local\\programs\\python\\python39\\lib\\site-packages (from jsonschema>=2.6->nbformat->notebook>=4.4.1->widgetsnbextension~=3.6.0->ipywidgets~=7.7->ipyvtklink) (0.1.1)\n",
      "Requirement already satisfied: arrow>=0.15.0 in c:\\users\\michal\\appdata\\local\\programs\\python\\python39\\lib\\site-packages (from isoduration->jsonschema>=2.6->nbformat->notebook>=4.4.1->widgetsnbextension~=3.6.0->ipywidgets~=7.7->ipyvtklink) (1.2.3)\n"
     ]
    }
   ],
   "source": [
    "%pip install numpy pydicom python-gdcm matplotlib pyvista ipyvtklink"
   ]
  },
  {
   "cell_type": "code",
   "execution_count": 2,
   "metadata": {},
   "outputs": [
    {
     "ename": "ModuleNotFoundError",
     "evalue": "No module named 'open3d'",
     "output_type": "error",
     "traceback": [
      "\u001b[1;31m---------------------------------------------------------------------------\u001b[0m",
      "\u001b[1;31mModuleNotFoundError\u001b[0m                       Traceback (most recent call last)",
      "Cell \u001b[1;32mIn[2], line 4\u001b[0m\n\u001b[0;32m      1\u001b[0m \u001b[38;5;28;01mimport\u001b[39;00m \u001b[38;5;21;01mmatplotlib\u001b[39;00m\u001b[38;5;21;01m.\u001b[39;00m\u001b[38;5;21;01mpyplot\u001b[39;00m \u001b[38;5;28;01mas\u001b[39;00m \u001b[38;5;21;01mplt\u001b[39;00m\n\u001b[0;32m      2\u001b[0m \u001b[38;5;28;01mimport\u001b[39;00m \u001b[38;5;21;01mpyvista\u001b[39;00m \u001b[38;5;28;01mas\u001b[39;00m \u001b[38;5;21;01mpv\u001b[39;00m\n\u001b[1;32m----> 4\u001b[0m \u001b[38;5;28;01mfrom\u001b[39;00m \u001b[38;5;21;01mmri3d\u001b[39;00m\u001b[38;5;21;01m.\u001b[39;00m\u001b[38;5;21;01msrc\u001b[39;00m\u001b[38;5;21;01m.\u001b[39;00m\u001b[38;5;21;01mparsedicom\u001b[39;00m \u001b[38;5;28;01mimport\u001b[39;00m \u001b[38;5;241m*\u001b[39m\n\u001b[0;32m      5\u001b[0m \u001b[38;5;28;01mfrom\u001b[39;00m \u001b[38;5;21;01mmri3d\u001b[39;00m\u001b[38;5;21;01m.\u001b[39;00m\u001b[38;5;21;01msrc\u001b[39;00m\u001b[38;5;21;01m.\u001b[39;00m\u001b[38;5;21;01mvolume\u001b[39;00m \u001b[38;5;28;01mimport\u001b[39;00m Volume\n",
      "File \u001b[1;32mC:\\Sync\\Projects\\FIT\\bi-pyt\\mri3d\\src\\parsedicom\\__init__.py:8\u001b[0m\n\u001b[0;32m      6\u001b[0m \u001b[38;5;28;01mimport\u001b[39;00m \u001b[38;5;21;01mnumpy\u001b[39;00m \u001b[38;5;28;01mas\u001b[39;00m \u001b[38;5;21;01mnp\u001b[39;00m\n\u001b[0;32m      7\u001b[0m \u001b[38;5;28;01mimport\u001b[39;00m \u001b[38;5;21;01mpydicom\u001b[39;00m\n\u001b[1;32m----> 8\u001b[0m \u001b[38;5;28;01mfrom\u001b[39;00m \u001b[38;5;21;01m.\u001b[39;00m\u001b[38;5;21;01m.\u001b[39;00m\u001b[38;5;21;01mvolume\u001b[39;00m \u001b[38;5;28;01mimport\u001b[39;00m Volume\n\u001b[0;32m     11\u001b[0m \u001b[38;5;28;01mclass\u001b[39;00m \u001b[38;5;21;01mDataset\u001b[39;00m:\n\u001b[0;32m     12\u001b[0m     \u001b[38;5;28;01mdef\u001b[39;00m \u001b[38;5;21m__init__\u001b[39m(\u001b[38;5;28mself\u001b[39m, path: Path):\n",
      "File \u001b[1;32mC:\\Sync\\Projects\\FIT\\bi-pyt\\mri3d\\src\\volume\\__init__.py:7\u001b[0m\n\u001b[0;32m      5\u001b[0m \u001b[38;5;28;01mfrom\u001b[39;00m \u001b[38;5;21;01m__future__\u001b[39;00m \u001b[38;5;28;01mimport\u001b[39;00m annotations\n\u001b[0;32m      6\u001b[0m \u001b[38;5;28;01mimport\u001b[39;00m \u001b[38;5;21;01mnumpy\u001b[39;00m \u001b[38;5;28;01mas\u001b[39;00m \u001b[38;5;21;01mnp\u001b[39;00m\n\u001b[1;32m----> 7\u001b[0m \u001b[38;5;28;01mimport\u001b[39;00m \u001b[38;5;21;01mopen3d\u001b[39;00m \u001b[38;5;28;01mas\u001b[39;00m \u001b[38;5;21;01mo3d\u001b[39;00m\n\u001b[0;32m     10\u001b[0m \u001b[38;5;28;01mclass\u001b[39;00m \u001b[38;5;21;01mVolume\u001b[39;00m:\n\u001b[0;32m     11\u001b[0m     \u001b[38;5;124;03m'''\u001b[39;00m\n\u001b[0;32m     12\u001b[0m \u001b[38;5;124;03m    TODO\u001b[39;00m\n\u001b[0;32m     13\u001b[0m \u001b[38;5;124;03m    '''\u001b[39;00m\n",
      "\u001b[1;31mModuleNotFoundError\u001b[0m: No module named 'open3d'"
     ]
    }
   ],
   "source": [
    "import matplotlib.pyplot as plt\n",
    "import pyvista as pv\n",
    "\n",
    "from mri3d.src.parsedicom import *\n",
    "from mri3d.src.volume import Volume"
   ]
  },
  {
   "cell_type": "code",
   "execution_count": null,
   "metadata": {},
   "outputs": [],
   "source": [
    "def plot(volume: Volume) -> None:\n",
    "    grid = pv.UniformGrid()\n",
    "\n",
    "    grid.dimensions = volume.data.shape\n",
    "    #grid.origin = (0, 0, 0)\n",
    "    grid.spacing = volume.spacing\n",
    "\n",
    "    grid.point_data[\"values\"] = volume.data.flatten(order=\"F\")\n",
    "\n",
    "    grid.plot(volume=True, opacity=\"sigmoid\", cmap=\"bone\")"
   ]
  },
  {
   "cell_type": "code",
   "execution_count": null,
   "metadata": {},
   "outputs": [],
   "source": [
    "dcm = Dataset(Path(\"./samples/brain-2022/DICOMDIR\"))\n",
    "patient = dcm.ds.patient_records[0]\n",
    "study = get_studies(patient)[0]\n",
    "series = get_series(study)[2]\n",
    "images = get_images(series)\n",
    "\n",
    "volume = get_volume(images, dcm)\n",
    "\n",
    "plot(volume)"
   ]
  },
  {
   "cell_type": "code",
   "execution_count": null,
   "metadata": {
    "scrolled": false
   },
   "outputs": [],
   "source": [
    "volume.rotate90(1)\n",
    "volume.rotate90(2, 2)\n",
    "plot(volume)"
   ]
  },
  {
   "cell_type": "code",
   "execution_count": null,
   "metadata": {},
   "outputs": [],
   "source": [
    "volume.data[:,:,-10:-1] = 0\n",
    "plot(volume)"
   ]
  },
  {
   "cell_type": "code",
   "execution_count": null,
   "metadata": {},
   "outputs": [],
   "source": [
    "patient"
   ]
  },
  {
   "cell_type": "code",
   "execution_count": null,
   "metadata": {},
   "outputs": [],
   "source": [
    "study"
   ]
  },
  {
   "cell_type": "code",
   "execution_count": null,
   "metadata": {},
   "outputs": [],
   "source": [
    "series"
   ]
  },
  {
   "cell_type": "code",
   "execution_count": null,
   "metadata": {},
   "outputs": [],
   "source": []
  }
 ],
 "metadata": {
  "kernelspec": {
   "display_name": "Python 3 (ipykernel)",
   "language": "python",
   "name": "python3"
  },
  "language_info": {
   "codemirror_mode": {
    "name": "ipython",
    "version": 3
   },
   "file_extension": ".py",
   "mimetype": "text/x-python",
   "name": "python",
   "nbconvert_exporter": "python",
   "pygments_lexer": "ipython3",
   "version": "3.9.13"
  },
  "vscode": {
   "interpreter": {
    "hash": "6795d4e415e1470ea41d7502cf206e199830f985d5f957ed21ddddf361a511af"
   }
  }
 },
 "nbformat": 4,
 "nbformat_minor": 2
}
